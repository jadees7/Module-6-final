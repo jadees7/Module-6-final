{
 "cells": [
  {
   "cell_type": "markdown",
   "id": "31f7b5a9-4a0d-4051-af7b-7139b85054c1",
   "metadata": {},
   "source": [
    "# Data Science Tools and Ecosystem"
   ]
  },
  {
   "cell_type": "markdown",
   "id": "dd98c63e-c1df-4047-85f9-899b217fa1c1",
   "metadata": {},
   "source": [
    "In this notebook, Data Science Tools and Ecosystem are summarized. "
   ]
  },
  {
   "cell_type": "markdown",
   "id": "f75c5ba4-31b5-4aed-82d2-31cf24a01d1c",
   "metadata": {},
   "source": [
    " **Objectives:**\n",
    " - List commonly used libraries for Data Science\n",
    " - List popular languages for Data Science\n",
    " - List development environement open source tools used in data science"
   ]
  },
  {
   "cell_type": "markdown",
   "id": "0f64a1ec-e64a-45c8-b5dc-9737e6c26103",
   "metadata": {},
   "source": [
    "Some of the commonly used libraries used by Data Scientists include:\n",
    "1. NumPy\n",
    "2. SciPy\n",
    "3. Pandas\n",
    "4. Matplotlib"
   ]
  },
  {
   "cell_type": "markdown",
   "id": "42fd0835-48d1-45b0-8c9a-6ff5dbf96b1f",
   "metadata": {},
   "source": [
    "Some of the popular languages that Data Scientists use are:\n",
    "1. Python\n",
    "2. R\n",
    "3. Java"
   ]
  },
  {
   "cell_type": "markdown",
   "id": "4ecb1794-4fc3-475e-9ce6-c524daa20ae0",
   "metadata": {},
   "source": [
    "Data Science Tools |\n",
    "------------------\n",
    "Apache Spark\n",
    "Apache Hadoop\n",
    "Apache Hive\n",
    "--------------\n"
   ]
  },
  {
   "cell_type": "markdown",
   "id": "2862dea1-8e8b-4e05-8e41-1414b1b1b655",
   "metadata": {},
   "source": [
    "### Below are a few examples of evaluating arithmetic expressions in Python"
   ]
  },
  {
   "cell_type": "code",
   "execution_count": 5,
   "id": "eaf9a779-f756-4505-bd83-222506484e4d",
   "metadata": {},
   "outputs": [
    {
     "data": {
      "text/plain": [
       "17"
      ]
     },
     "execution_count": 5,
     "metadata": {},
     "output_type": "execute_result"
    }
   ],
   "source": [
    "#this is a simple arithmetic expression to multiply then add integers\n",
    "(3*4) + 5"
   ]
  },
  {
   "cell_type": "code",
   "execution_count": 7,
   "id": "8e340211-3a13-4174-bbfe-e390ec5f14ab",
   "metadata": {},
   "outputs": [
    {
     "data": {
      "text/plain": [
       "3.3333333333333335"
      ]
     },
     "execution_count": 7,
     "metadata": {},
     "output_type": "execute_result"
    }
   ],
   "source": [
    "#this will convert 200 minutes to hours by dividing by 60\n",
    "200 / 60"
   ]
  },
  {
   "cell_type": "markdown",
   "id": "cdb29193-687b-4829-9101-900e4620a768",
   "metadata": {},
   "source": [
    "## Author\n",
    "Juliana D."
   ]
  }
 ],
 "metadata": {
  "kernelspec": {
   "display_name": "Python 3 (ipykernel)",
   "language": "python",
   "name": "python3"
  },
  "language_info": {
   "codemirror_mode": {
    "name": "ipython",
    "version": 3
   },
   "file_extension": ".py",
   "mimetype": "text/x-python",
   "name": "python",
   "nbconvert_exporter": "python",
   "pygments_lexer": "ipython3",
   "version": "3.12.4"
  }
 },
 "nbformat": 4,
 "nbformat_minor": 5
}
